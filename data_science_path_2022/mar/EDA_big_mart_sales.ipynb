{
 "cells": [
  {
   "cell_type": "markdown",
   "metadata": {},
   "source": [
    "# Exploratory Data Analysis (EDA) of the Big Market Sales dataset. \n",
    "\n",
    "This dataset is used in the in the chalenge Analytics Vidhya - Big Mart Sales Practice Problem.\n",
    "\n",
    "The description of the chalenge is avaliable in: https://datahack.analyticsvidhya.com/contest/practice-problem-big-mart-sales-iii/#ProblemStatement"
   ]
  },
  {
   "cell_type": "markdown",
   "metadata": {},
   "source": [
    "## Sales Prediction for Big Mart Outlets\n",
    "\n",
    "The data scientists at BigMart have collected 2013 sales data for 1559 products across 10 stores in differente cities. Also, certain attributes of each product and store have been defined. The aim is to build a predictive model and predict the sale of each product at a particular outlet.\n",
    "\n",
    "Using this model, BigMart will try to understand the properties of products and outletes which play a key role in increaasing sales.\n",
    "\n",
    "Please note that the data have missing values as some stores might not report all the data due to techinical gliches. Hence, it will be required to threat them accordingly.\n",
    "\n",
    "## Data Dictionary\n",
    "\n",
    "We have train (8523) and test (8681) data set, train data set has both input and output variables(s). You need to predict the sales for test data set.\n",
    "\n",
    "**Train file:** CSV containing the item outlet information with sales value\n",
    "\n",
    "| **variable**  | **Description**  | \n",
    "|---|---|\n",
    "| Item_Identifier | Unique product ID  |\n",
    "| Item_Weight  | Weight of product  |\n",
    "| Item_Fat_Content  | Whether the product is low fat or not  |\n",
    "| Item_Visibility  | The % of total display area of all products in a store allocated to the particular product\n",
    "  |\n",
    "| Item_Type | The category to which the product belongs |\n",
    "| Item_MRP | Maximum Retail Price (list price) of the product|\n",
    "| Outlet_Identifier\t| Unique store ID |\n",
    "| Outlet_Establishment_Year | The year in which store was established |\n",
    "| Outlet_Size | The size of the store in terms of ground area covered |\n",
    "| Outlet_Location_Type | The type of city in which the store is located |\n",
    "| Outlet_Type | Whether the outlet is just a grocery store or some sort of supermarket |\n",
    "| Item_Outlet_Sales | Sales of the product in the particular store. This is the outcome variable to be predicted. |\n"
   ]
  },
  {
   "cell_type": "code",
   "execution_count": null,
   "metadata": {},
   "outputs": [],
   "source": []
  }
 ],
 "metadata": {
  "language_info": {
   "name": "python"
  },
  "orig_nbformat": 4
 },
 "nbformat": 4,
 "nbformat_minor": 2
}
